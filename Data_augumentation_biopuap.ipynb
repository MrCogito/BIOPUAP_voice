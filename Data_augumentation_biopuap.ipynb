{
  "nbformat": 4,
  "nbformat_minor": 0,
  "metadata": {
    "colab": {
      "name": "Data_augumentation_biopuap.ipynb",
      "provenance": [],
      "collapsed_sections": [],
      "authorship_tag": "ABX9TyPyxCC40JzJnCfcZ+US1lFF",
      "include_colab_link": true
    },
    "kernelspec": {
      "name": "python3",
      "display_name": "Python 3"
    },
    "language_info": {
      "name": "python"
    }
  },
  "cells": [
    {
      "cell_type": "markdown",
      "metadata": {
        "id": "view-in-github",
        "colab_type": "text"
      },
      "source": [
        "<a href=\"https://colab.research.google.com/github/MrCogito/BIOPUAP_voice/blob/main/Data_augumentation_biopuap.ipynb\" target=\"_parent\"><img src=\"https://colab.research.google.com/assets/colab-badge.svg\" alt=\"Open In Colab\"/></a>"
      ]
    },
    {
      "cell_type": "code",
      "source": [
        "!pip install audiomentations"
      ],
      "metadata": {
        "colab": {
          "base_uri": "https://localhost:8080/"
        },
        "id": "yoCTq3RZ6Wzg",
        "outputId": "a5df3dee-ae3a-4082-c18a-5d99c4bbf828"
      },
      "execution_count": null,
      "outputs": [
        {
          "output_type": "stream",
          "name": "stdout",
          "text": [
            "Collecting audiomentations\n",
            "  Downloading audiomentations-0.20.0-py3-none-any.whl (33 kB)\n",
            "Requirement already satisfied: librosa<=0.8.1,>=0.6.1 in /usr/local/lib/python3.7/dist-packages (from audiomentations) (0.8.1)\n",
            "Requirement already satisfied: scipy>=1.0.0 in /usr/local/lib/python3.7/dist-packages (from audiomentations) (1.4.1)\n",
            "Requirement already satisfied: numpy>=1.13.0 in /usr/local/lib/python3.7/dist-packages (from audiomentations) (1.19.5)\n",
            "Requirement already satisfied: numba>=0.43.0 in /usr/local/lib/python3.7/dist-packages (from librosa<=0.8.1,>=0.6.1->audiomentations) (0.51.2)\n",
            "Requirement already satisfied: audioread>=2.0.0 in /usr/local/lib/python3.7/dist-packages (from librosa<=0.8.1,>=0.6.1->audiomentations) (2.1.9)\n",
            "Requirement already satisfied: packaging>=20.0 in /usr/local/lib/python3.7/dist-packages (from librosa<=0.8.1,>=0.6.1->audiomentations) (21.3)\n",
            "Requirement already satisfied: resampy>=0.2.2 in /usr/local/lib/python3.7/dist-packages (from librosa<=0.8.1,>=0.6.1->audiomentations) (0.2.2)\n",
            "Requirement already satisfied: pooch>=1.0 in /usr/local/lib/python3.7/dist-packages (from librosa<=0.8.1,>=0.6.1->audiomentations) (1.5.2)\n",
            "Requirement already satisfied: scikit-learn!=0.19.0,>=0.14.0 in /usr/local/lib/python3.7/dist-packages (from librosa<=0.8.1,>=0.6.1->audiomentations) (1.0.2)\n",
            "Requirement already satisfied: joblib>=0.14 in /usr/local/lib/python3.7/dist-packages (from librosa<=0.8.1,>=0.6.1->audiomentations) (1.1.0)\n",
            "Requirement already satisfied: soundfile>=0.10.2 in /usr/local/lib/python3.7/dist-packages (from librosa<=0.8.1,>=0.6.1->audiomentations) (0.10.3.post1)\n",
            "Requirement already satisfied: decorator>=3.0.0 in /usr/local/lib/python3.7/dist-packages (from librosa<=0.8.1,>=0.6.1->audiomentations) (4.4.2)\n",
            "Requirement already satisfied: setuptools in /usr/local/lib/python3.7/dist-packages (from numba>=0.43.0->librosa<=0.8.1,>=0.6.1->audiomentations) (57.4.0)\n",
            "Requirement already satisfied: llvmlite<0.35,>=0.34.0.dev0 in /usr/local/lib/python3.7/dist-packages (from numba>=0.43.0->librosa<=0.8.1,>=0.6.1->audiomentations) (0.34.0)\n",
            "Requirement already satisfied: pyparsing!=3.0.5,>=2.0.2 in /usr/local/lib/python3.7/dist-packages (from packaging>=20.0->librosa<=0.8.1,>=0.6.1->audiomentations) (3.0.6)\n",
            "Requirement already satisfied: appdirs in /usr/local/lib/python3.7/dist-packages (from pooch>=1.0->librosa<=0.8.1,>=0.6.1->audiomentations) (1.4.4)\n",
            "Requirement already satisfied: requests in /usr/local/lib/python3.7/dist-packages (from pooch>=1.0->librosa<=0.8.1,>=0.6.1->audiomentations) (2.23.0)\n",
            "Requirement already satisfied: six>=1.3 in /usr/local/lib/python3.7/dist-packages (from resampy>=0.2.2->librosa<=0.8.1,>=0.6.1->audiomentations) (1.15.0)\n",
            "Requirement already satisfied: threadpoolctl>=2.0.0 in /usr/local/lib/python3.7/dist-packages (from scikit-learn!=0.19.0,>=0.14.0->librosa<=0.8.1,>=0.6.1->audiomentations) (3.0.0)\n",
            "Requirement already satisfied: cffi>=1.0 in /usr/local/lib/python3.7/dist-packages (from soundfile>=0.10.2->librosa<=0.8.1,>=0.6.1->audiomentations) (1.15.0)\n",
            "Requirement already satisfied: pycparser in /usr/local/lib/python3.7/dist-packages (from cffi>=1.0->soundfile>=0.10.2->librosa<=0.8.1,>=0.6.1->audiomentations) (2.21)\n",
            "Requirement already satisfied: urllib3!=1.25.0,!=1.25.1,<1.26,>=1.21.1 in /usr/local/lib/python3.7/dist-packages (from requests->pooch>=1.0->librosa<=0.8.1,>=0.6.1->audiomentations) (1.24.3)\n",
            "Requirement already satisfied: certifi>=2017.4.17 in /usr/local/lib/python3.7/dist-packages (from requests->pooch>=1.0->librosa<=0.8.1,>=0.6.1->audiomentations) (2021.10.8)\n",
            "Requirement already satisfied: idna<3,>=2.5 in /usr/local/lib/python3.7/dist-packages (from requests->pooch>=1.0->librosa<=0.8.1,>=0.6.1->audiomentations) (2.10)\n",
            "Requirement already satisfied: chardet<4,>=3.0.2 in /usr/local/lib/python3.7/dist-packages (from requests->pooch>=1.0->librosa<=0.8.1,>=0.6.1->audiomentations) (3.0.4)\n",
            "Installing collected packages: audiomentations\n",
            "Successfully installed audiomentations-0.20.0\n"
          ]
        }
      ]
    },
    {
      "cell_type": "code",
      "execution_count": null,
      "metadata": {
        "id": "HmrIpiDJohMk"
      },
      "outputs": [],
      "source": [
        "import numpy as np\n",
        "import os\n",
        "import librosa\n",
        "import librosa.display\n",
        "import IPython.display as ipd\n",
        "import audiomentations\n",
        "from audiomentations.core.audio_loading_utils import load_sound_file\n",
        "from audiomentations import Compose, AddGaussianNoise, AddBackgroundNoise, AddGaussianSNR\n",
        "import soundfile as sf"
      ]
    },
    {
      "cell_type": "code",
      "source": [
        "from google.colab import drive\n",
        "drive.mount('/content/gdrive')"
      ],
      "metadata": {
        "id": "MAq32Q00pzk3",
        "colab": {
          "base_uri": "https://localhost:8080/"
        },
        "outputId": "228d5d1e-a108-413e-a85e-c3effcefa8b2"
      },
      "execution_count": null,
      "outputs": [
        {
          "output_type": "stream",
          "name": "stdout",
          "text": [
            "Mounted at /content/gdrive\n"
          ]
        }
      ]
    },
    {
      "cell_type": "code",
      "source": [
        "sound, sr =  librosa.load('/content/gdrive/MyDrive/BioPuap/dev-clean_samples/LibriSpeech/dev-clean/1462/170138/1462-170138-0000.flac') # path to audio clip \n",
        "#print(sound.dtype)\n",
        "noise_folder_path = '/content/gdrive/MyDrive/BioPuap/noise_audio/' #path to folder with noise audio\n",
        "\n",
        "\n",
        "augment = Compose([\n",
        "    #AddGaussianNoise(min_amplitude=0.001, max_amplitude=0.015, p=0.5),\n",
        "     AddGaussianSNR(min_SNR=0.01, max_SNR=0.5 )\n",
        "    #AddBackgroundNoise(noise_folder_path , min_snr_in_db=1,max_snr_in_db=2) \n",
        "])\n",
        "\n",
        "augumented_sound = augment(samples=sound, sample_rate=sr)\n",
        "sf.write('test5.flac', augumented_sound,sr) # save file\n",
        "\n",
        "\n",
        "\n"
      ],
      "metadata": {
        "id": "48U-VEq3pxgF",
        "colab": {
          "base_uri": "https://localhost:8080/"
        },
        "outputId": "bab76099-a6c8-423d-dbaa-61d8f2734908"
      },
      "execution_count": null,
      "outputs": [
        {
          "output_type": "stream",
          "name": "stderr",
          "text": [
            "/usr/local/lib/python3.7/dist-packages/audiomentations/augmentations/transforms.py:273: UserWarning: You use legacy min_SNR and max_SNR parameters in AddGaussianSNR. We highly recommend to use min_snr_in_db and max_snr_in_db parameters instead. To migrate from legacy parameters to new parameters, use the following conversion formulas: \n",
            "min_snr_in_db = -20 * math.log10(max_SNR)\n",
            "max_snr_in_db = -20 * math.log10(min_SNR)\n",
            "  \"You use legacy min_SNR and max_SNR parameters in AddGaussianSNR.\"\n"
          ]
        }
      ]
    },
    {
      "cell_type": "code",
      "source": [
        "folder_path = '/content/gdrive/MyDrive/BioPuap/dev-clean_samples/LibriSpeech/dev-clean/1462/170138/1462-170138-0000.flac'\n",
        "\n",
        "for root, dirs, files in os.walk(folder_path):\n",
        "   for name in files:\n",
        "      print(os.path.join(root, name, ))\n",
        "      if name.endswith(\".flac\"):\n",
        "        sound, sr = librosa.load(os.path.join(root, name,))\n",
        "        augumented_sound = augment(samples=sound, sample_rate=sr)\n",
        "        sf.write(os.path.join(root, name,) + \"_noise.flac\", augumented_sound,sr)  \n",
        "        #os.remove(os.path.join(root, name, ))   # To remove created files - used for experiments \n",
        "   for name in dirs:\n",
        "      print(os.path.join(root, name))"
      ],
      "metadata": {
        "id": "mjv2Kf7343P9"
      },
      "execution_count": null,
      "outputs": []
    }
  ]
}