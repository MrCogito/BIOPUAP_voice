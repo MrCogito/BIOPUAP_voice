{
  "nbformat": 4,
  "nbformat_minor": 0,
  "metadata": {
    "colab": {
      "name": "Data_augumentation_biopuap.ipynb",
      "provenance": [],
      "collapsed_sections": [],
      "authorship_tag": "ABX9TyMGV5Rb41pBPLuIXSnD4DmQ",
      "include_colab_link": true
    },
    "kernelspec": {
      "name": "python3",
      "display_name": "Python 3"
    },
    "language_info": {
      "name": "python"
    }
  },
  "cells": [
    {
      "cell_type": "markdown",
      "metadata": {
        "id": "view-in-github",
        "colab_type": "text"
      },
      "source": [
        "<a href=\"https://colab.research.google.com/github/MrCogito/BIOPUAP_voice/blob/main/Data_augumentation_biopuap.ipynb\" target=\"_parent\"><img src=\"https://colab.research.google.com/assets/colab-badge.svg\" alt=\"Open In Colab\"/></a>"
      ]
    },
    {
      "cell_type": "code",
      "source": [
        "!pip install audiomentations"
      ],
      "metadata": {
        "colab": {
          "base_uri": "https://localhost:8080/"
        },
        "id": "yoCTq3RZ6Wzg",
        "outputId": "e879b16c-0112-4867-8d76-0d10d073594c"
      },
      "execution_count": 1,
      "outputs": [
        {
          "output_type": "stream",
          "name": "stdout",
          "text": [
            "Collecting audiomentations\n",
            "  Downloading audiomentations-0.20.0-py3-none-any.whl (33 kB)\n",
            "Requirement already satisfied: librosa<=0.8.1,>=0.6.1 in /usr/local/lib/python3.7/dist-packages (from audiomentations) (0.8.1)\n",
            "Requirement already satisfied: numpy>=1.13.0 in /usr/local/lib/python3.7/dist-packages (from audiomentations) (1.19.5)\n",
            "Requirement already satisfied: scipy>=1.0.0 in /usr/local/lib/python3.7/dist-packages (from audiomentations) (1.4.1)\n",
            "Requirement already satisfied: pooch>=1.0 in /usr/local/lib/python3.7/dist-packages (from librosa<=0.8.1,>=0.6.1->audiomentations) (1.5.2)\n",
            "Requirement already satisfied: resampy>=0.2.2 in /usr/local/lib/python3.7/dist-packages (from librosa<=0.8.1,>=0.6.1->audiomentations) (0.2.2)\n",
            "Requirement already satisfied: scikit-learn!=0.19.0,>=0.14.0 in /usr/local/lib/python3.7/dist-packages (from librosa<=0.8.1,>=0.6.1->audiomentations) (1.0.2)\n",
            "Requirement already satisfied: decorator>=3.0.0 in /usr/local/lib/python3.7/dist-packages (from librosa<=0.8.1,>=0.6.1->audiomentations) (4.4.2)\n",
            "Requirement already satisfied: soundfile>=0.10.2 in /usr/local/lib/python3.7/dist-packages (from librosa<=0.8.1,>=0.6.1->audiomentations) (0.10.3.post1)\n",
            "Requirement already satisfied: numba>=0.43.0 in /usr/local/lib/python3.7/dist-packages (from librosa<=0.8.1,>=0.6.1->audiomentations) (0.51.2)\n",
            "Requirement already satisfied: audioread>=2.0.0 in /usr/local/lib/python3.7/dist-packages (from librosa<=0.8.1,>=0.6.1->audiomentations) (2.1.9)\n",
            "Requirement already satisfied: packaging>=20.0 in /usr/local/lib/python3.7/dist-packages (from librosa<=0.8.1,>=0.6.1->audiomentations) (21.3)\n",
            "Requirement already satisfied: joblib>=0.14 in /usr/local/lib/python3.7/dist-packages (from librosa<=0.8.1,>=0.6.1->audiomentations) (1.1.0)\n",
            "Requirement already satisfied: setuptools in /usr/local/lib/python3.7/dist-packages (from numba>=0.43.0->librosa<=0.8.1,>=0.6.1->audiomentations) (57.4.0)\n",
            "Requirement already satisfied: llvmlite<0.35,>=0.34.0.dev0 in /usr/local/lib/python3.7/dist-packages (from numba>=0.43.0->librosa<=0.8.1,>=0.6.1->audiomentations) (0.34.0)\n",
            "Requirement already satisfied: pyparsing!=3.0.5,>=2.0.2 in /usr/local/lib/python3.7/dist-packages (from packaging>=20.0->librosa<=0.8.1,>=0.6.1->audiomentations) (3.0.6)\n",
            "Requirement already satisfied: appdirs in /usr/local/lib/python3.7/dist-packages (from pooch>=1.0->librosa<=0.8.1,>=0.6.1->audiomentations) (1.4.4)\n",
            "Requirement already satisfied: requests in /usr/local/lib/python3.7/dist-packages (from pooch>=1.0->librosa<=0.8.1,>=0.6.1->audiomentations) (2.23.0)\n",
            "Requirement already satisfied: six>=1.3 in /usr/local/lib/python3.7/dist-packages (from resampy>=0.2.2->librosa<=0.8.1,>=0.6.1->audiomentations) (1.15.0)\n",
            "Requirement already satisfied: threadpoolctl>=2.0.0 in /usr/local/lib/python3.7/dist-packages (from scikit-learn!=0.19.0,>=0.14.0->librosa<=0.8.1,>=0.6.1->audiomentations) (3.0.0)\n",
            "Requirement already satisfied: cffi>=1.0 in /usr/local/lib/python3.7/dist-packages (from soundfile>=0.10.2->librosa<=0.8.1,>=0.6.1->audiomentations) (1.15.0)\n",
            "Requirement already satisfied: pycparser in /usr/local/lib/python3.7/dist-packages (from cffi>=1.0->soundfile>=0.10.2->librosa<=0.8.1,>=0.6.1->audiomentations) (2.21)\n",
            "Requirement already satisfied: chardet<4,>=3.0.2 in /usr/local/lib/python3.7/dist-packages (from requests->pooch>=1.0->librosa<=0.8.1,>=0.6.1->audiomentations) (3.0.4)\n",
            "Requirement already satisfied: idna<3,>=2.5 in /usr/local/lib/python3.7/dist-packages (from requests->pooch>=1.0->librosa<=0.8.1,>=0.6.1->audiomentations) (2.10)\n",
            "Requirement already satisfied: urllib3!=1.25.0,!=1.25.1,<1.26,>=1.21.1 in /usr/local/lib/python3.7/dist-packages (from requests->pooch>=1.0->librosa<=0.8.1,>=0.6.1->audiomentations) (1.24.3)\n",
            "Requirement already satisfied: certifi>=2017.4.17 in /usr/local/lib/python3.7/dist-packages (from requests->pooch>=1.0->librosa<=0.8.1,>=0.6.1->audiomentations) (2021.10.8)\n",
            "Installing collected packages: audiomentations\n",
            "Successfully installed audiomentations-0.20.0\n"
          ]
        }
      ]
    },
    {
      "cell_type": "code",
      "execution_count": 2,
      "metadata": {
        "id": "HmrIpiDJohMk"
      },
      "outputs": [],
      "source": [
        "import numpy as np\n",
        "import os\n",
        "import librosa\n",
        "import librosa.display\n",
        "import IPython.display as ipd\n",
        "import audiomentations\n",
        "from audiomentations.core.audio_loading_utils import load_sound_file\n",
        "from audiomentations import Compose, AddGaussianNoise, AddBackgroundNoise, AddGaussianSNR\n",
        "import soundfile as sf\n",
        "import scipy.io"
      ]
    },
    {
      "cell_type": "code",
      "source": [
        "from google.colab import drive\n",
        "drive.mount('/content/gdrive')"
      ],
      "metadata": {
        "id": "MAq32Q00pzk3",
        "colab": {
          "base_uri": "https://localhost:8080/"
        },
        "outputId": "4d141428-6100-405f-cd57-0e8f8dbe15a5"
      },
      "execution_count": 3,
      "outputs": [
        {
          "output_type": "stream",
          "name": "stdout",
          "text": [
            "Mounted at /content/gdrive\n"
          ]
        }
      ]
    },
    {
      "cell_type": "code",
      "source": [
        "#single clip - made for testing purpose\n",
        "\"\"\"\n",
        "sound, sr =  librosa.load('/content/gdrive/MyDrive/BioPuap/dev-clean_samples/LibriSpeech/dev-clean/1462/170138/1462-170138-0000.flac') # path to audio clip \n",
        "print(sound.dtype)\n",
        "\n",
        "augment = Compose([\n",
        "    #AddGaussianNoise(min_amplitude=0.001, max_amplitude=0.015, p=0.5),\n",
        "     AddGaussianSNR(min_snr_in_db=1.2, max_snr_in_db=30 )\n",
        "    #AddBackgroundNoise(noise_folder_path , min_snr_in_db=1,max_snr_in_db=2) \n",
        "])\n",
        "\n",
        "augumented_sound = augment(samples=sound, sample_rate=sr)\n",
        "sf.write('test10_07.flac', augumented_sound,sr) # save file\n",
        "*/ \n",
        "\"\"\"\n",
        "\n"
      ],
      "metadata": {
        "id": "48U-VEq3pxgF"
      },
      "execution_count": 39,
      "outputs": []
    },
    {
      "cell_type": "code",
      "source": [
        "\n",
        "folder_path = input(\"Path to audio clips: \")\n",
        "noise_folder_path = input(\"Path to noise clips \") #path to folder with noise audio\n",
        "min_snr = input(\"min snr in db: \")\n",
        "max_snr = input(\"max snr in db: \")\n",
        "delete = input(\"delete files? (yes/no): \")\n",
        "\n",
        "\n",
        "\n",
        "augment = Compose([\n",
        "    #AddGaussianNoise(min_amplitude=0.001, max_amplitude=0.015, p=0.5),\n",
        "     AddGaussianSNR(min_snr_in_db=min_snr, max_snr_in_db=max_snr )\n",
        "    #AddBackgroundNoise(noise_folder_path , min_snr_in_db=1,max_++++++++++++++++++++++++++++++++++++++++++++++++++++++++++++snr_in_db=2) \n",
        "])\n"
      ],
      "metadata": {
        "colab": {
          "base_uri": "https://localhost:8080/"
        },
        "id": "Dim_p41Ex7Oq",
        "outputId": "03863d46-eb83-496e-e4bd-f1d10bf0849a"
      },
      "execution_count": 40,
      "outputs": [
        {
          "name": "stdout",
          "output_type": "stream",
          "text": [
            "Path to audio clips: 12\n",
            "Path to noise clips 3\n",
            "min snr in db: 2\n",
            "max snr in db: 1\n"
          ]
        }
      ]
    },
    {
      "cell_type": "code",
      "source": [
        "#folder_path = '/content/gdrive/MyDrive/BioPuap/dev-clean_samples/LibriSpeech/dev-clean/1462/170138/1462-170138-0000.flac#'\n",
        "\n",
        "for root, dirs, files in os.walk(folder_path):\n",
        "   for name in files:\n",
        "      print(os.path.join(root, name, ))\n",
        "      if name.endswith(\".flac\"):\n",
        "        sound, sr = librosa.load(os.path.join(root, name,))\n",
        "        augumented_sound = augment(samples=sound, sample_rate=sr)\n",
        "        sf.write(os.path.join(root, name,) + \"_noise.flac\", augumented_sound,sr)  \n",
        "        if (delete == \"yes\"):\n",
        "          os.remove(os.path.join(root, name, ))   # To remove created files - used for experiments \n",
        "   for name in dirs:\n",
        "      print(os.path.join(root, name))"
      ],
      "metadata": {
        "id": "mjv2Kf7343P9"
      },
      "execution_count": 43,
      "outputs": []
    },
    {
      "cell_type": "code",
      "source": [
        "#Calculate SNR\n",
        "\n",
        "def signaltonoise(a, axis=0, ddof=0):\n",
        "    a = np.asanyarray(a)\n",
        "    m = a.mean(axis)\n",
        "    sd = a.std(axis=axis, ddof=ddof)\n",
        "    return np.where(sd == 0, 0, m/sd)\n",
        "\n",
        "SNR = signaltonoise(augumented_sound)\n",
        "print(SNR)"
      ],
      "metadata": {
        "colab": {
          "base_uri": "https://localhost:8080/"
        },
        "id": "KG9AW2iKlISa",
        "outputId": "bf9812a4-75eb-442d-a3ca-383f56eb3cdf"
      },
      "execution_count": 21,
      "outputs": [
        {
          "output_type": "stream",
          "name": "stdout",
          "text": [
            "-0.008547034114599228\n"
          ]
        }
      ]
    }
  ]
}